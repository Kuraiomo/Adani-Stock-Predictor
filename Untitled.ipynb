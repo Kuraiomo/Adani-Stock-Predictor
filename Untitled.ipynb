{
 "cells": [
  {
   "cell_type": "code",
   "execution_count": 1,
   "id": "ce392dda-2b4c-4dc6-9576-51b5be082f02",
   "metadata": {},
   "outputs": [],
   "source": [
    "import numpy as np\n",
    "import pandas as pd\n",
    "import matplotlib.pyplot as plt\n",
    "from sklearn.preprocessing import MinMaxScaler\n",
    "from keras.models import Sequential\n",
    "from keras.layers import Dense,LSTM,Dropout"
   ]
  },
  {
   "cell_type": "code",
   "execution_count": 2,
   "id": "5c2673c2-e39a-486b-a841-0785e5f13528",
   "metadata": {},
   "outputs": [],
   "source": [
    "data = pd.read_csv('train.csv')"
   ]
  },
  {
   "cell_type": "code",
   "execution_count": 4,
   "id": "57764977-6f58-4493-87af-a6a29983f563",
   "metadata": {},
   "outputs": [
    {
     "data": {
      "text/html": [
       "<div>\n",
       "<style scoped>\n",
       "    .dataframe tbody tr th:only-of-type {\n",
       "        vertical-align: middle;\n",
       "    }\n",
       "\n",
       "    .dataframe tbody tr th {\n",
       "        vertical-align: top;\n",
       "    }\n",
       "\n",
       "    .dataframe thead th {\n",
       "        text-align: right;\n",
       "    }\n",
       "</style>\n",
       "<table border=\"1\" class=\"dataframe\">\n",
       "  <thead>\n",
       "    <tr style=\"text-align: right;\">\n",
       "      <th></th>\n",
       "      <th>Date</th>\n",
       "      <th>Open</th>\n",
       "      <th>High</th>\n",
       "      <th>Low</th>\n",
       "      <th>Close</th>\n",
       "      <th>Adj Close</th>\n",
       "      <th>Volume</th>\n",
       "    </tr>\n",
       "  </thead>\n",
       "  <tbody>\n",
       "    <tr>\n",
       "      <th>0</th>\n",
       "      <td>2016-01-01</td>\n",
       "      <td>45.553741</td>\n",
       "      <td>49.422543</td>\n",
       "      <td>44.872616</td>\n",
       "      <td>49.095600</td>\n",
       "      <td>47.614208</td>\n",
       "      <td>10963906</td>\n",
       "    </tr>\n",
       "    <tr>\n",
       "      <th>1</th>\n",
       "      <td>2016-01-04</td>\n",
       "      <td>48.768658</td>\n",
       "      <td>50.158157</td>\n",
       "      <td>45.907928</td>\n",
       "      <td>46.371094</td>\n",
       "      <td>44.971912</td>\n",
       "      <td>9408965</td>\n",
       "    </tr>\n",
       "    <tr>\n",
       "      <th>2</th>\n",
       "      <td>2016-01-05</td>\n",
       "      <td>46.670792</td>\n",
       "      <td>48.823151</td>\n",
       "      <td>45.880684</td>\n",
       "      <td>48.278248</td>\n",
       "      <td>46.821522</td>\n",
       "      <td>9801814</td>\n",
       "    </tr>\n",
       "    <tr>\n",
       "      <th>3</th>\n",
       "      <td>2016-01-06</td>\n",
       "      <td>47.951309</td>\n",
       "      <td>48.468964</td>\n",
       "      <td>46.480076</td>\n",
       "      <td>46.997730</td>\n",
       "      <td>45.579639</td>\n",
       "      <td>7093448</td>\n",
       "    </tr>\n",
       "    <tr>\n",
       "      <th>4</th>\n",
       "      <td>2016-01-07</td>\n",
       "      <td>46.262115</td>\n",
       "      <td>46.262115</td>\n",
       "      <td>42.502296</td>\n",
       "      <td>43.564854</td>\n",
       "      <td>42.250347</td>\n",
       "      <td>8919023</td>\n",
       "    </tr>\n",
       "  </tbody>\n",
       "</table>\n",
       "</div>"
      ],
      "text/plain": [
       "         Date       Open       High        Low      Close  Adj Close    Volume\n",
       "0  2016-01-01  45.553741  49.422543  44.872616  49.095600  47.614208  10963906\n",
       "1  2016-01-04  48.768658  50.158157  45.907928  46.371094  44.971912   9408965\n",
       "2  2016-01-05  46.670792  48.823151  45.880684  48.278248  46.821522   9801814\n",
       "3  2016-01-06  47.951309  48.468964  46.480076  46.997730  45.579639   7093448\n",
       "4  2016-01-07  46.262115  46.262115  42.502296  43.564854  42.250347   8919023"
      ]
     },
     "execution_count": 4,
     "metadata": {},
     "output_type": "execute_result"
    }
   ],
   "source": [
    "data.head()"
   ]
  },
  {
   "cell_type": "code",
   "execution_count": 6,
   "id": "42d267b5-9672-4b6b-955c-4e6b28c045a0",
   "metadata": {},
   "outputs": [
    {
     "name": "stdout",
     "output_type": "stream",
     "text": [
      "<class 'pandas.core.frame.DataFrame'>\n",
      "RangeIndex: 1750 entries, 0 to 1749\n",
      "Data columns (total 7 columns):\n",
      " #   Column     Non-Null Count  Dtype  \n",
      "---  ------     --------------  -----  \n",
      " 0   Date       1750 non-null   object \n",
      " 1   Open       1750 non-null   float64\n",
      " 2   High       1750 non-null   float64\n",
      " 3   Low        1750 non-null   float64\n",
      " 4   Close      1750 non-null   float64\n",
      " 5   Adj Close  1750 non-null   float64\n",
      " 6   Volume     1750 non-null   int64  \n",
      "dtypes: float64(5), int64(1), object(1)\n",
      "memory usage: 95.8+ KB\n"
     ]
    }
   ],
   "source": [
    "data.info()"
   ]
  },
  {
   "cell_type": "code",
   "execution_count": 9,
   "id": "e1037f73-7317-4644-8c1d-79fe94c83182",
   "metadata": {},
   "outputs": [],
   "source": [
    "data['Volume'] = data['Volume'].astype(object)\n",
    "data=data.dropna()\n",
    "trainData=data.iloc[:,4:5].values"
   ]
  },
  {
   "cell_type": "code",
   "execution_count": 10,
   "id": "49565a95-6576-40fb-8072-5483fc64359a",
   "metadata": {},
   "outputs": [
    {
     "name": "stdout",
     "output_type": "stream",
     "text": [
      "<class 'pandas.core.frame.DataFrame'>\n",
      "RangeIndex: 1750 entries, 0 to 1749\n",
      "Data columns (total 7 columns):\n",
      " #   Column     Non-Null Count  Dtype  \n",
      "---  ------     --------------  -----  \n",
      " 0   Date       1750 non-null   object \n",
      " 1   Open       1750 non-null   float64\n",
      " 2   High       1750 non-null   float64\n",
      " 3   Low        1750 non-null   float64\n",
      " 4   Close      1750 non-null   float64\n",
      " 5   Adj Close  1750 non-null   float64\n",
      " 6   Volume     1750 non-null   object \n",
      "dtypes: float64(5), object(2)\n",
      "memory usage: 95.8+ KB\n"
     ]
    }
   ],
   "source": [
    "data.info()"
   ]
  },
  {
   "cell_type": "code",
   "execution_count": 11,
   "id": "acab7113-a92d-46c6-bc32-eb13e97e3edd",
   "metadata": {},
   "outputs": [
    {
     "data": {
      "text/plain": [
       "(1750, 1)"
      ]
     },
     "execution_count": 11,
     "metadata": {},
     "output_type": "execute_result"
    }
   ],
   "source": [
    "sc=MinMaxScaler(feature_range=(0,1))\n",
    "trainData=sc.fit_transform(trainData)\n",
    "trainData.shape"
   ]
  },
  {
   "cell_type": "code",
   "execution_count": 19,
   "id": "cda11c77-c9bb-46a9-988f-f0982b1b428c",
   "metadata": {},
   "outputs": [],
   "source": [
    "X_train=[]\n",
    "Y_train=[]\n",
    "for i in range(60,1750):\n",
    "    X_train.append(trainData[i-60:i,0])\n",
    "    Y_train.append(trainData[i,0])\n",
    "\n",
    "X_train,Y_train=np.array(X_train),np.array(Y_train)"
   ]
  },
  {
   "cell_type": "code",
   "execution_count": 20,
   "id": "5979a63e-c956-441a-9050-a14199703db2",
   "metadata": {},
   "outputs": [
    {
     "data": {
      "text/plain": [
       "(1690, 60, 1)"
      ]
     },
     "execution_count": 20,
     "metadata": {},
     "output_type": "execute_result"
    }
   ],
   "source": [
    "X_train=np.reshape(X_train,(X_train.shape[0],X_train.shape[1],1))\n",
    "X_train.shape"
   ]
  },
  {
   "cell_type": "code",
   "execution_count": 25,
   "id": "f81aa6cc-c21d-426d-8fa3-6e6a3e22a261",
   "metadata": {},
   "outputs": [],
   "source": [
    "model=Sequential()\n",
    "\n",
    "model.add(LSTM(units=100,return_sequences=True,input_shape=(X_train.shape[1],1)))\n",
    "model.add(Dropout(0.2))\n",
    "\n",
    "model.add(LSTM(units=100,return_sequences=True))\n",
    "model.add(Dropout(0.2))\n",
    "\n",
    "model.add(LSTM(units=100, return_sequences=True))\n",
    "model.add(Dropout(0.2))\n",
    "\n",
    "model.add(LSTM(units=100, return_sequences=False))\n",
    "model.add(Dropout(0.2))\n",
    "\n",
    "model.add(Dense(units=1))\n",
    "model.compile(optimizer='adam',loss=\"mean_squared_error\")"
   ]
  },
  {
   "cell_type": "code",
   "execution_count": 26,
   "id": "0c366ef1-e778-4f0a-a747-d184e426bce6",
   "metadata": {},
   "outputs": [
    {
     "name": "stdout",
     "output_type": "stream",
     "text": [
      "Epoch 1/20\n",
      "53/53 - 19s - 364ms/step - loss: 0.0105\n",
      "Epoch 2/20\n",
      "53/53 - 9s - 176ms/step - loss: 0.0017\n",
      "Epoch 3/20\n",
      "53/53 - 10s - 187ms/step - loss: 0.0013\n",
      "Epoch 4/20\n",
      "53/53 - 9s - 162ms/step - loss: 0.0017\n",
      "Epoch 5/20\n",
      "53/53 - 9s - 178ms/step - loss: 0.0012\n",
      "Epoch 6/20\n",
      "53/53 - 9s - 173ms/step - loss: 0.0014\n",
      "Epoch 7/20\n",
      "53/53 - 10s - 187ms/step - loss: 0.0013\n",
      "Epoch 8/20\n",
      "53/53 - 9s - 166ms/step - loss: 0.0011\n",
      "Epoch 9/20\n",
      "53/53 - 8s - 158ms/step - loss: 0.0011\n",
      "Epoch 10/20\n",
      "53/53 - 8s - 157ms/step - loss: 0.0014\n",
      "Epoch 11/20\n",
      "53/53 - 8s - 158ms/step - loss: 0.0011\n",
      "Epoch 12/20\n",
      "53/53 - 8s - 151ms/step - loss: 0.0012\n",
      "Epoch 13/20\n",
      "53/53 - 8s - 159ms/step - loss: 9.8138e-04\n",
      "Epoch 14/20\n",
      "53/53 - 8s - 155ms/step - loss: 0.0012\n",
      "Epoch 15/20\n",
      "53/53 - 8s - 149ms/step - loss: 0.0011\n",
      "Epoch 16/20\n",
      "53/53 - 8s - 149ms/step - loss: 0.0012\n",
      "Epoch 17/20\n",
      "53/53 - 8s - 155ms/step - loss: 9.3166e-04\n",
      "Epoch 18/20\n",
      "53/53 - 9s - 163ms/step - loss: 9.0383e-04\n",
      "Epoch 19/20\n",
      "53/53 - 9s - 173ms/step - loss: 8.5025e-04\n",
      "Epoch 20/20\n",
      "53/53 - 9s - 167ms/step - loss: 9.0094e-04\n"
     ]
    }
   ],
   "source": [
    "hist =model.fit (X_train,Y_train,epochs=20,batch_size=32 ,verbose=2)"
   ]
  },
  {
   "cell_type": "code",
   "execution_count": 27,
   "id": "3b231f73-0b1a-4785-9c57-d05aa2050ef1",
   "metadata": {},
   "outputs": [
    {
     "data": {
      "image/png": "[encoded data removed]",
      "text/plain": [
       "<Figure size 640x480 with 1 Axes>"
      ]
     },
     "metadata": {},
     "output_type": "display_data"
    }
   ],
   "source": [
    "plt.plot(hist.history['loss'])\n",
    "plt.title('Training model loss')\n",
    "plt.ylabel('loss')\n",
    "plt.xlabel('epoch')\n",
    "plt.legend(['train'],loc='upper left')\n",
    "plt.show()"
   ]
  },
  {
   "cell_type": "code",
   "execution_count": 41,
   "id": "37ebe054-21d0-4109-b55e-117aface1922",
   "metadata": {},
   "outputs": [
    {
     "data": {
      "text/plain": [
       "(185, 60, 1)"
      ]
     },
     "execution_count": 41,
     "metadata": {},
     "output_type": "execute_result"
    }
   ],
   "source": [
    "testData=pd.read_csv('test.csv')\n",
    "testData['Volume'] = testData['Volume'].astype(object)\n",
    "testData=testData.dropna()\n",
    "testData=testData.iloc[:,4:5]\n",
    "Y_test=testData.iloc[60:,0:].values\n",
    "inputClosing=testData.iloc[:,0:].values\n",
    "inputClosing_scaled=sc.transform(inputClosing)\n",
    "inputClosing_scaled.shape\n",
    "X_test=[]\n",
    "length=len(testData)\n",
    "timestep=60\n",
    "for i in range (timestep,length):\n",
    "    X_test.append(inputClosing_scaled[i-timestep:i,0])\n",
    "X_test=np.array(X_test)\n",
    "X_test=np.reshape(X_test,(X_test.shape[0],X_test.shape[1],1))\n",
    "X_test.shape"
   ]
  },
  {
   "cell_type": "code",
   "execution_count": 45,
   "id": "b425b709-c131-4ca5-ad27-cb7ab7fc0450",
   "metadata": {},
   "outputs": [
    {
     "name": "stdout",
     "output_type": "stream",
     "text": [
      "\u001b[1m6/6\u001b[0m \u001b[32m━━━━━━━━━━━━━━━━━━━━\u001b[0m\u001b[37m\u001b[0m \u001b[1m0s\u001b[0m 66ms/step\n"
     ]
    },
    {
     "data": {
      "text/plain": [
       "array([[0.6096827 ],\n",
       "       [0.61194164],\n",
       "       [0.6140886 ],\n",
       "       [0.61580706],\n",
       "       [0.61676615],\n",
       "       [0.616867  ],\n",
       "       [0.61612725],\n",
       "       [0.614772  ],\n",
       "       [0.6129713 ],\n",
       "       [0.6110206 ],\n",
       "       [0.6091447 ],\n",
       "       [0.60721946],\n",
       "       [0.6050194 ],\n",
       "       [0.60280025],\n",
       "       [0.60086775],\n",
       "       [0.599489  ],\n",
       "       [0.5986259 ],\n",
       "       [0.5984025 ],\n",
       "       [0.59881115],\n",
       "       [0.59982437],\n",
       "       [0.6010962 ],\n",
       "       [0.6021796 ],\n",
       "       [0.60276943],\n",
       "       [0.6026502 ],\n",
       "       [0.60177445],\n",
       "       [0.60021305],\n",
       "       [0.5977627 ],\n",
       "       [0.59416133],\n",
       "       [0.5891892 ],\n",
       "       [0.58322334],\n",
       "       [0.5770078 ],\n",
       "       [0.5712159 ],\n",
       "       [0.5659781 ],\n",
       "       [0.5612881 ],\n",
       "       [0.55719423],\n",
       "       [0.5538182 ],\n",
       "       [0.55118066],\n",
       "       [0.5493607 ],\n",
       "       [0.54816216],\n",
       "       [0.5473171 ],\n",
       "       [0.5466534 ],\n",
       "       [0.5461276 ],\n",
       "       [0.5456498 ],\n",
       "       [0.54517275],\n",
       "       [0.54442257],\n",
       "       [0.5434317 ],\n",
       "       [0.542219  ],\n",
       "       [0.5408561 ],\n",
       "       [0.5396603 ],\n",
       "       [0.53976417],\n",
       "       [0.5417921 ],\n",
       "       [0.54561347],\n",
       "       [0.55071884],\n",
       "       [0.5572184 ],\n",
       "       [0.5669992 ],\n",
       "       [0.5807284 ],\n",
       "       [0.597875  ],\n",
       "       [0.616774  ],\n",
       "       [0.63571256],\n",
       "       [0.65323144],\n",
       "       [0.66838634],\n",
       "       [0.68077093],\n",
       "       [0.69078976],\n",
       "       [0.6988698 ],\n",
       "       [0.70516175],\n",
       "       [0.7090404 ],\n",
       "       [0.71025836],\n",
       "       [0.70904756],\n",
       "       [0.7062188 ],\n",
       "       [0.7025267 ],\n",
       "       [0.69845396],\n",
       "       [0.69455147],\n",
       "       [0.69154125],\n",
       "       [0.6899316 ],\n",
       "       [0.6902016 ],\n",
       "       [0.6923928 ],\n",
       "       [0.69621867],\n",
       "       [0.70096165],\n",
       "       [0.70613736],\n",
       "       [0.7117312 ],\n",
       "       [0.7175847 ],\n",
       "       [0.72354573],\n",
       "       [0.72931534],\n",
       "       [0.73443174],\n",
       "       [0.7381493 ],\n",
       "       [0.7398104 ],\n",
       "       [0.7392278 ],\n",
       "       [0.7365664 ],\n",
       "       [0.7323335 ],\n",
       "       [0.72713166],\n",
       "       [0.72236764],\n",
       "       [0.7192235 ],\n",
       "       [0.71851283],\n",
       "       [0.72044134],\n",
       "       [0.7246765 ],\n",
       "       [0.73061395],\n",
       "       [0.7376427 ],\n",
       "       [0.745234  ],\n",
       "       [0.7525619 ],\n",
       "       [0.7591803 ],\n",
       "       [0.7646118 ],\n",
       "       [0.76864374],\n",
       "       [0.7714164 ],\n",
       "       [0.77311116],\n",
       "       [0.7740863 ],\n",
       "       [0.77482194],\n",
       "       [0.7754993 ],\n",
       "       [0.7761409 ],\n",
       "       [0.7769055 ],\n",
       "       [0.77792597],\n",
       "       [0.77949053],\n",
       "       [0.781578  ],\n",
       "       [0.7836158 ],\n",
       "       [0.78543806],\n",
       "       [0.7871535 ],\n",
       "       [0.7888563 ],\n",
       "       [0.7905395 ],\n",
       "       [0.7917819 ],\n",
       "       [0.7922489 ],\n",
       "       [0.79174036],\n",
       "       [0.78988934],\n",
       "       [0.7856355 ],\n",
       "       [0.7794508 ],\n",
       "       [0.7724421 ],\n",
       "       [0.7655747 ],\n",
       "       [0.7592742 ],\n",
       "       [0.75375557],\n",
       "       [0.7491925 ],\n",
       "       [0.74585414],\n",
       "       [0.74385875],\n",
       "       [0.743195  ],\n",
       "       [0.7440425 ],\n",
       "       [0.7466107 ],\n",
       "       [0.7508571 ],\n",
       "       [0.75624835],\n",
       "       [0.76200444],\n",
       "       [0.76750004],\n",
       "       [0.77229494],\n",
       "       [0.77601844],\n",
       "       [0.7787231 ],\n",
       "       [0.78042775],\n",
       "       [0.78093046],\n",
       "       [0.78000844],\n",
       "       [0.7772966 ],\n",
       "       [0.77285725],\n",
       "       [0.7672678 ],\n",
       "       [0.76123786],\n",
       "       [0.7553079 ],\n",
       "       [0.75022507],\n",
       "       [0.74631846],\n",
       "       [0.74366105],\n",
       "       [0.74202514],\n",
       "       [0.74105346],\n",
       "       [0.74022543],\n",
       "       [0.73864007],\n",
       "       [0.7356276 ],\n",
       "       [0.7311662 ],\n",
       "       [0.7251962 ],\n",
       "       [0.71812886],\n",
       "       [0.7109496 ],\n",
       "       [0.705267  ],\n",
       "       [0.70220006],\n",
       "       [0.70207447],\n",
       "       [0.70467144],\n",
       "       [0.709629  ],\n",
       "       [0.716415  ],\n",
       "       [0.7254967 ],\n",
       "       [0.73686594],\n",
       "       [0.74945486],\n",
       "       [0.76177   ],\n",
       "       [0.772654  ],\n",
       "       [0.7810936 ],\n",
       "       [0.7876832 ],\n",
       "       [0.7942835 ],\n",
       "       [0.79869837],\n",
       "       [0.7999612 ],\n",
       "       [0.7983068 ],\n",
       "       [0.7946511 ],\n",
       "       [0.7900092 ],\n",
       "       [0.7852462 ],\n",
       "       [0.78096217],\n",
       "       [0.7775284 ],\n",
       "       [0.77526766],\n",
       "       [0.7744973 ],\n",
       "       [0.7750207 ]], dtype=float32)"
      ]
     },
     "execution_count": 45,
     "metadata": {},
     "output_type": "execute_result"
    }
   ],
   "source": [
    "Y_pred=model.predict(X_test)\n",
    "Y_pred"
   ]
  },
  {
   "cell_type": "code",
   "execution_count": 46,
   "id": "8d54b61b-cffd-4748-90bf-508ecf4e5a96",
   "metadata": {},
   "outputs": [],
   "source": [
    "predicted_price=sc.inverse_transform(Y_pred)"
   ]
  },
  {
   "cell_type": "code",
   "execution_count": 48,
   "id": "494d94b0-9c46-4e5b-839e-f841e9503a96",
   "metadata": {},
   "outputs": [
    {
     "data": {
      "image/png": "[encoded data removed]",
      "text/plain": [
       "<Figure size 640x480 with 1 Axes>"
      ]
     },
     "metadata": {},
     "output_type": "display_data"
    }
   ],
   "source": [
    "plt.plot(Y_test,color='red',label='Actual Stock Price')\n",
    "plt.plot(predicted_price,color='green',label='Predicted Stock Price')\n",
    "plt.plot ('Adani Stock Price Prediction')\n",
    "plt.xlabel('Time')\n",
    "plt.ylabel('Stock Price')\n",
    "plt.legend()\n",
    "plt.show()"
   ]
  },
  {
   "cell_type": "code",
   "execution_count": null,
   "id": "0de06c34-5ac1-4df3-813a-f8c14b753147",
   "metadata": {},
   "outputs": [],
   "source": []
  }
 ],
 "metadata": {
  "kernelspec": {
   "display_name": "Python 3 (ipykernel)",
   "language": "python",
   "name": "python3"
  },
  "language_info": {
   "codemirror_mode": {
    "name": "ipython",
    "version": 3
   },
   "file_extension": ".py",
   "mimetype": "text/x-python",
   "name": "python",
   "nbconvert_exporter": "python",
   "pygments_lexer": "ipython3",
   "version": "3.11.5"
  }
 },
 "nbformat": 4,
 "nbformat_minor": 5
}
